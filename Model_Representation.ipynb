{
  "nbformat": 4,
  "nbformat_minor": 0,
  "metadata": {
    "colab": {
      "provenance": []
    },
    "kernelspec": {
      "name": "python3",
      "display_name": "Python 3"
    },
    "language_info": {
      "name": "python"
    }
  },
  "cells": [
    {
      "cell_type": "markdown",
      "source": [
        " **Importing Libraries**"
      ],
      "metadata": {
        "id": "PaCtXb-23Gsd"
      }
    },
    {
      "cell_type": "code",
      "execution_count": null,
      "metadata": {
        "id": "rJpMGt-92z0I"
      },
      "outputs": [],
      "source": [
        "import numpy as np\n",
        "import matplotlib.pyplot as plt"
      ]
    },
    {
      "cell_type": "markdown",
      "source": [
        "**Problem : Estimating house price based on house size**"
      ],
      "metadata": {
        "id": "bb1XVU9p3F7A"
      }
    },
    {
      "cell_type": "code",
      "source": [
        "# x_train is input variable\n",
        "#y_train is target variable for linear regresssion\n",
        "\n",
        "x_train = np.array([1.0,2.0])\n",
        "y_train = np.array([300.0,500.0])\n",
        "\n",
        "print(f\"x_train = {x_train}\")\n",
        "print(f\"y_train = {y_train}\")\n"
      ],
      "metadata": {
        "colab": {
          "base_uri": "https://localhost:8080/"
        },
        "id": "EvoSNrGFAJmS",
        "outputId": "9e25d0fc-88d0-4b90-b3bd-64322aa358bd"
      },
      "execution_count": null,
      "outputs": [
        {
          "output_type": "stream",
          "name": "stdout",
          "text": [
            "x_train = [1. 2.]\n",
            "y_train = [300. 500.]\n"
          ]
        }
      ]
    },
    {
      "cell_type": "markdown",
      "source": [
        "**If m is number of training examples**"
      ],
      "metadata": {
        "id": "OvMHHDiQC1Uo"
      }
    },
    {
      "cell_type": "code",
      "source": [
        "print(f\"x_train.shape = {x_train.shape}\")\n",
        "m = x_train.shape[0];\n",
        "print(f\"m = {m}\")\n",
        "\n",
        "# We can also use len function\n",
        "\n",
        "m=len(x_train)\n",
        "print(f\"m = {m}\")"
      ],
      "metadata": {
        "colab": {
          "base_uri": "https://localhost:8080/"
        },
        "id": "07DdBac9C_HD",
        "outputId": "8c668835-74d4-4951-d09d-d29087e7aa7d"
      },
      "execution_count": null,
      "outputs": [
        {
          "output_type": "stream",
          "name": "stdout",
          "text": [
            "x_train.shape = (2,)\n",
            "m = 2\n",
            "m = 2\n"
          ]
        }
      ]
    },
    {
      "cell_type": "markdown",
      "source": [
        "**Training example x_i, y_i**  \n",
        "we will use (x,y) to denote the training example.(x0,y0) is (1.0, 300.0) and (x1,y1) is (2.0, 500.0)."
      ],
      "metadata": {
        "id": "BIKutJNfDoih"
      }
    },
    {
      "cell_type": "code",
      "source": [
        "i = 0\n",
        "\n",
        "x_i=x_train[i]\n",
        "y_i=y_train[i]\n",
        "\n",
        "print(f\"(x_{i},y_{i}) = ({x_i},{y_i})\")"
      ],
      "metadata": {
        "colab": {
          "base_uri": "https://localhost:8080/"
        },
        "id": "dxNPTzKEDtLq",
        "outputId": "1d80551a-babd-4032-a3a5-1f49ac236f6f"
      },
      "execution_count": null,
      "outputs": [
        {
          "output_type": "stream",
          "name": "stdout",
          "text": [
            "(x_0,y_0) = (1.0,300.0)\n"
          ]
        }
      ]
    },
    {
      "cell_type": "markdown",
      "source": [
        "**Plotting the data**"
      ],
      "metadata": {
        "id": "89iUF2L_FHgO"
      }
    },
    {
      "cell_type": "code",
      "source": [
        "plt.scatter(x_train,y_train ,c='r',marker='o')\n",
        "plt.title(\"Housing Prices\")\n",
        "plt.xlabel(\"Size (1000 sqft)\")\n",
        "plt.ylabel(\"Price (1000s of $)\")\n",
        "plt.show()"
      ],
      "metadata": {
        "colab": {
          "base_uri": "https://localhost:8080/",
          "height": 472
        },
        "id": "4cAvsCoeFLfx",
        "outputId": "0645fc3c-8b07-4c95-9225-ac8cc513b529"
      },
      "execution_count": null,
      "outputs": [
        {
          "output_type": "display_data",
          "data": {
            "text/plain": [
              "<Figure size 640x480 with 1 Axes>"
            ],
            "image/png": "[encoded data removed]"
          },
          "metadata": {}
        }
      ]
    },
    {
      "cell_type": "markdown",
      "source": [
        "**adjusting the model's m and c parameters**"
      ],
      "metadata": {
        "id": "F3jG9UFzHePV"
      }
    },
    {
      "cell_type": "code",
      "source": [
        "m=100\n",
        "c=100\n",
        "print(f\"m = {m} , c = {c}\")"
      ],
      "metadata": {
        "colab": {
          "base_uri": "https://localhost:8080/"
        },
        "id": "Ew-0EicPHh9k",
        "outputId": "e55051b0-1ad1-4ae0-f077-795ebe1d2f88"
      },
      "execution_count": null,
      "outputs": [
        {
          "output_type": "stream",
          "name": "stdout",
          "text": [
            "m = 100 , c = 100\n"
          ]
        }
      ]
    },
    {
      "cell_type": "markdown",
      "source": [
        "**Computing Model Outputs**"
      ],
      "metadata": {
        "id": "sHbwXV0kH6D3"
      }
    },
    {
      "cell_type": "code",
      "source": [
        "def compute_model_output(x,m,c):\n",
        "    #x is array of data examples\n",
        "    #m and c are parameters\n",
        "    #y is target variable\n",
        "    l = len(x)\n",
        "    y_temp=np.zeros(l)\n",
        "\n",
        "    for i in range(l):\n",
        "      y_temp[i]=m * x[i] + c\n",
        "\n",
        "    return y_temp"
      ],
      "metadata": {
        "id": "nmHfJdQxH-go"
      },
      "execution_count": null,
      "outputs": []
    },
    {
      "cell_type": "markdown",
      "source": [
        "**Calling function and Checking Output**"
      ],
      "metadata": {
        "id": "IUaVILaNJUlg"
      }
    },
    {
      "cell_type": "code",
      "source": [
        "y=compute_model_output(x_train,m,c)\n",
        "\n",
        "plt.plot(x_train,y,c='b',label='Prediction')\n",
        "plt.scatter(x_train,y_train,c='r',label='Training Data')\n",
        "plt.title(\"Housing Prices\")\n",
        "plt.xlabel(\"Size (1000 sqft)\")\n",
        "plt.ylabel(\"Price (1000s of $)\")\n",
        "plt.legend()\n",
        "plt.show()"
      ],
      "metadata": {
        "colab": {
          "base_uri": "https://localhost:8080/",
          "height": 472
        },
        "id": "EGJ-AD4kJZIm",
        "outputId": "9e33a685-6e09-4a92-a143-4cfc5b99b86a"
      },
      "execution_count": null,
      "outputs": [
        {
          "output_type": "display_data",
          "data": {
            "text/plain": [
              "<Figure size 640x480 with 1 Axes>"
            ],
            "image/png": "[encoded data removed]"
          },
          "metadata": {}
        }
      ]
    },
    {
      "cell_type": "markdown",
      "source": [
        "**Prediciton**"
      ],
      "metadata": {
        "id": "IQ2n0VQeKYci"
      }
    },
    {
      "cell_type": "code",
      "source": [
        "m=200\n",
        "c=100\n",
        "x_i=1.2\n",
        "cost_1200sqft = m*x_i +c\n",
        "print(f\"Cost of 1200 sqft is {cost_1200sqft} thousand dollars\")"
      ],
      "metadata": {
        "colab": {
          "base_uri": "https://localhost:8080/"
        },
        "id": "70-CQRqdKaPx",
        "outputId": "d3a90112-1f2c-4fa2-92ee-4fc385837886"
      },
      "execution_count": null,
      "outputs": [
        {
          "output_type": "stream",
          "name": "stdout",
          "text": [
            "Cost of 1200 sqft is 340.0 thousand dollars\n"
          ]
        }
      ]
    }
  ]
}